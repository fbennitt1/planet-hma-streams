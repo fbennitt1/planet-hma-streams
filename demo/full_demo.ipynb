{
 "cells": [
  {
   "cell_type": "code",
   "execution_count": 1,
   "id": "cfd1fa0a-7d0d-4a9f-89a9-360f51b82526",
   "metadata": {},
   "outputs": [],
   "source": [
    "import os\n",
    "import cv2\n",
    "import glob\n",
    "import numpy as np\n",
    "from master.models import *\n",
    "from master.postprocess import *\n",
    "from master.utils.chips import *\n",
    "\n",
    "def chiparray(img_chip_path):\n",
    "    _image = []\n",
    "    for img_path in sorted(glob.glob(os.path.join(img_chip_path, \"*.tif\"))):\n",
    "        with rasterio.open(img_path,'r') as f:\n",
    "                imgr = np.moveaxis(f.read(),0,-1)\n",
    "                _image.append(imgr)\n",
    "                \n",
    "    #Convert list to array       \n",
    "    _image = np.array(_image).astype('float32')/255\n",
    "    return _image\n",
    "\n",
    "def pred_multi(output_folder):\n",
    "    \n",
    "    chips_folder = f'{out_fold}/chips' \n",
    "    chips_path = sorted(glob.glob(os.path.join(chips_folder,\"*\")))\n",
    "    print(f'\\nNumber of chips folder to predict: {len(chips_path)}')\n",
    "\n",
    "    #Run cv prediction \n",
    "    results = []\n",
    "    for i in range(len(chips_path)):\n",
    "        with tf.device('/CPU:0'):\n",
    "            pred = chiparray(chips_path[i])\n",
    "        #print(pred.shape)\n",
    "        model = load_model('./log/cv_mul/cv_multi.hdf5')\n",
    "        pred_cv = model.predict(pred)#,1,verbose=1)\n",
    "        results.append(pred_cv)\n",
    "\n",
    "    #Project and merge the predicted chips into Planet scene\n",
    "    #run projection of masks and save to a temporary folder\n",
    "    with tf.device('/CPU:0'):\n",
    "        tmp_path = f'./{output_folder}/tmp_pred'\n",
    "        for i in range(len(chips_path)):\n",
    "            proj_pred(chips_path[i],results[i],tmp_path,multi=True)\n",
    "\n",
    "            #Run merge\n",
    "            merge_masks(tmp_path,output_folder,chips_path[i])\n",
    "            shutil.rmtree(chips_path[i])\n",
    "        \n",
    "    #cleanup chips folder\n",
    "    os.rmdir(chips_folder)\n"
   ]
  },
  {
   "cell_type": "code",
   "execution_count": 2,
   "id": "161c7ed9-aacf-4a31-b0f3-7d241a6e558c",
   "metadata": {},
   "outputs": [],
   "source": [
    "#input folder containing raw planet SR scenes\n",
    "#make sure that this folder only contains SR tif files\n",
    "pred_fold = '../data/pred/raw_planet' \n",
    "\n",
    "#output folder for predicted scenes\n",
    "out_fold = '../pred_out'\n",
    "os.makedirs(out_fold,exist_ok=True)\n"
   ]
  },
  {
   "cell_type": "code",
   "execution_count": 3,
   "id": "048ad9a2-3d37-4e23-bbc9-cc287953659e",
   "metadata": {},
   "outputs": [
    {
     "name": "stdout",
     "output_type": "stream",
     "text": [
      "Number of images to run: 2\n",
      "Processing 20230531_025957_07_242e_3B_AnalyticMS_SR_clip.tif .....\n",
      "Processing 20230529_033209_85_248e_3B_AnalyticMS_SR_clip.tif .....\n",
      "\n",
      "\n",
      "\tCreated 63 chips for 20230531_025957_07_242e_3B_AnalyticMS_SR_clip.tif\n",
      "\tCreated 71 chips for 20230529_033209_85_248e_3B_AnalyticMS_SR_clip.tif\n"
     ]
    }
   ],
   "source": [
    "#Preprocess image and extract chips\n",
    "batch_chips(out_fold,pred_fold)\n",
    "  "
   ]
  },
  {
   "cell_type": "code",
   "execution_count": 4,
   "id": "0757f820-5486-4c24-a7d1-e85e13298fd0",
   "metadata": {},
   "outputs": [
    {
     "name": "stdout",
     "output_type": "stream",
     "text": [
      "\n",
      "Number of chips folder to predict: 2\n"
     ]
    },
    {
     "name": "stderr",
     "output_type": "stream",
     "text": [
      "2024-03-26 18:10:44.627705: E tensorflow/stream_executor/cuda/cuda_driver.cc:271] failed call to cuInit: CUDA_ERROR_NO_DEVICE: no CUDA-capable device is detected\n",
      "2024-03-26 18:10:44.627746: I tensorflow/stream_executor/cuda/cuda_diagnostics.cc:156] kernel driver does not appear to be running on this host (ceewater-cpu005): /proc/driver/nvidia/version does not exist\n",
      "2024-03-26 18:10:44.628328: I tensorflow/core/platform/cpu_feature_guard.cc:193] This TensorFlow binary is optimized with oneAPI Deep Neural Network Library (oneDNN) to use the following CPU instructions in performance-critical operations:  AVX2 FMA\n",
      "To enable them in other operations, rebuild TensorFlow with the appropriate compiler flags.\n"
     ]
    },
    {
     "name": "stdout",
     "output_type": "stream",
     "text": [
      "3/3 [==============================] - 10s 2s/step\n",
      "2/2 [==============================] - 8s 4s/step\n",
      "\n",
      "Created 20230529_033209_85_248e_3B_AnalyticMS_SR_clip_mask in output folder\n",
      "\n",
      "Created 20230531_025957_07_242e_3B_AnalyticMS_SR_clip_mask in output folder\n"
     ]
    }
   ],
   "source": [
    "#predict chips, transform and mosaic to full scene\n",
    "#tf warnings are due to use of only CPUs for this demo\n",
    "#use GPU for faster large-scale processing\n",
    "pred_multi(out_fold)"
   ]
  }
 ],
 "metadata": {
  "kernelspec": {
   "display_name": "Python [conda env:.conda-planetriv]",
   "language": "python",
   "name": "conda-env-.conda-planetriv-py"
  },
  "language_info": {
   "codemirror_mode": {
    "name": "ipython",
    "version": 3
   },
   "file_extension": ".py",
   "mimetype": "text/x-python",
   "name": "python",
   "nbconvert_exporter": "python",
   "pygments_lexer": "ipython3",
   "version": "3.8.8"
  }
 },
 "nbformat": 4,
 "nbformat_minor": 5
}
